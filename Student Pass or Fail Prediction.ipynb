{
 "cells": [
  {
   "cell_type": "markdown",
   "id": "5105db75",
   "metadata": {},
   "source": [
    "# Student Pass or Fail Prediction"
   ]
  },
  {
   "cell_type": "code",
   "execution_count": 1,
   "id": "3c00c304",
   "metadata": {},
   "outputs": [
    {
     "data": {
      "text/html": [
       "<div>\n",
       "<style scoped>\n",
       "    .dataframe tbody tr th:only-of-type {\n",
       "        vertical-align: middle;\n",
       "    }\n",
       "\n",
       "    .dataframe tbody tr th {\n",
       "        vertical-align: top;\n",
       "    }\n",
       "\n",
       "    .dataframe thead th {\n",
       "        text-align: right;\n",
       "    }\n",
       "</style>\n",
       "<table border=\"1\" class=\"dataframe\">\n",
       "  <thead>\n",
       "    <tr style=\"text-align: right;\">\n",
       "      <th></th>\n",
       "      <th>34.62365962451697</th>\n",
       "      <th>78.0246928153624</th>\n",
       "      <th>0</th>\n",
       "    </tr>\n",
       "  </thead>\n",
       "  <tbody>\n",
       "    <tr>\n",
       "      <th>0</th>\n",
       "      <td>30.286711</td>\n",
       "      <td>43.894998</td>\n",
       "      <td>0</td>\n",
       "    </tr>\n",
       "    <tr>\n",
       "      <th>1</th>\n",
       "      <td>35.847409</td>\n",
       "      <td>72.902198</td>\n",
       "      <td>0</td>\n",
       "    </tr>\n",
       "    <tr>\n",
       "      <th>2</th>\n",
       "      <td>60.182599</td>\n",
       "      <td>86.308552</td>\n",
       "      <td>1</td>\n",
       "    </tr>\n",
       "    <tr>\n",
       "      <th>3</th>\n",
       "      <td>79.032736</td>\n",
       "      <td>75.344376</td>\n",
       "      <td>1</td>\n",
       "    </tr>\n",
       "    <tr>\n",
       "      <th>4</th>\n",
       "      <td>45.083277</td>\n",
       "      <td>56.316372</td>\n",
       "      <td>0</td>\n",
       "    </tr>\n",
       "    <tr>\n",
       "      <th>...</th>\n",
       "      <td>...</td>\n",
       "      <td>...</td>\n",
       "      <td>...</td>\n",
       "    </tr>\n",
       "    <tr>\n",
       "      <th>94</th>\n",
       "      <td>83.489163</td>\n",
       "      <td>48.380286</td>\n",
       "      <td>1</td>\n",
       "    </tr>\n",
       "    <tr>\n",
       "      <th>95</th>\n",
       "      <td>42.261701</td>\n",
       "      <td>87.103851</td>\n",
       "      <td>1</td>\n",
       "    </tr>\n",
       "    <tr>\n",
       "      <th>96</th>\n",
       "      <td>99.315009</td>\n",
       "      <td>68.775409</td>\n",
       "      <td>1</td>\n",
       "    </tr>\n",
       "    <tr>\n",
       "      <th>97</th>\n",
       "      <td>55.340018</td>\n",
       "      <td>64.931938</td>\n",
       "      <td>1</td>\n",
       "    </tr>\n",
       "    <tr>\n",
       "      <th>98</th>\n",
       "      <td>74.775893</td>\n",
       "      <td>89.529813</td>\n",
       "      <td>1</td>\n",
       "    </tr>\n",
       "  </tbody>\n",
       "</table>\n",
       "<p>99 rows × 3 columns</p>\n",
       "</div>"
      ],
      "text/plain": [
       "    34.62365962451697  78.0246928153624  0\n",
       "0           30.286711         43.894998  0\n",
       "1           35.847409         72.902198  0\n",
       "2           60.182599         86.308552  1\n",
       "3           79.032736         75.344376  1\n",
       "4           45.083277         56.316372  0\n",
       "..                ...               ... ..\n",
       "94          83.489163         48.380286  1\n",
       "95          42.261701         87.103851  1\n",
       "96          99.315009         68.775409  1\n",
       "97          55.340018         64.931938  1\n",
       "98          74.775893         89.529813  1\n",
       "\n",
       "[99 rows x 3 columns]"
      ]
     },
     "execution_count": 1,
     "metadata": {},
     "output_type": "execute_result"
    }
   ],
   "source": [
    "import pandas as pd # useful for loading dataset\n",
    "import numpy as np # to perform array\n",
    "\n",
    "dataset = pd.read_csv(r'./marks.csv')\n",
    "dataset"
   ]
  },
  {
   "cell_type": "code",
   "execution_count": 2,
   "id": "51939700",
   "metadata": {},
   "outputs": [
    {
     "data": {
      "text/plain": [
       "array([0, 0, 1, 1, 0, 1, 1, 1, 1, 0, 0, 1, 1, 0, 1, 1, 0, 1, 1, 0, 1, 0,\n",
       "       0, 1, 1, 1, 0, 0, 0, 1, 1, 0, 1, 0, 0, 0, 1, 0, 0, 1, 0, 1, 0, 0,\n",
       "       0, 1, 1, 1, 1, 1, 1, 1, 0, 0, 0, 1, 0, 1, 1, 1, 0, 0, 0, 0, 0, 1,\n",
       "       0, 1, 1, 0, 1, 1, 1, 1, 1, 1, 1, 0, 0, 1, 1, 1, 1, 1, 1, 0, 1, 1,\n",
       "       0, 1, 1, 0, 1, 1, 1, 1, 1, 1, 1])"
      ]
     },
     "execution_count": 2,
     "metadata": {},
     "output_type": "execute_result"
    }
   ],
   "source": [
    "x = dataset.iloc[:,:-1].values\n",
    "y = dataset.iloc[:,-1].values\n",
    "x\n",
    "y"
   ]
  },
  {
   "cell_type": "code",
   "execution_count": 8,
   "id": "6602eac2",
   "metadata": {},
   "outputs": [
    {
     "name": "stdout",
     "output_type": "stream",
     "text": [
      "[[-1.5578942  -1.04002692]\n",
      " [ 1.46423275 -1.11124692]\n",
      " [ 1.42666827  0.5784761 ]\n",
      " [ 0.03875582 -0.28976253]\n",
      " [ 1.24662397 -1.23496051]\n",
      " [-0.21076098 -0.86626901]\n",
      " [ 0.55804103 -1.01019815]\n",
      " [-1.69537361  1.56871129]\n",
      " [-1.0817429   0.00338022]\n",
      " [ 1.71764917  0.32125134]\n",
      " [-1.529408    0.34987162]\n",
      " [-0.49376701 -1.45670307]\n",
      " [ 0.83158617 -1.38384111]\n",
      " [ 1.44438215 -0.04394009]\n",
      " [-1.06068054 -0.54082064]\n",
      " [ 0.15667146 -0.73285378]\n",
      " [ 0.23743449  1.42525121]\n",
      " [-0.73260507 -1.04884606]\n",
      " [-1.61384555  0.47529387]\n",
      " [-0.24748127  1.61773469]\n",
      " [ 1.24164211  1.13427511]\n",
      " [ 0.47769381  1.04035807]\n",
      " [-1.81161772 -1.20787345]\n",
      " [-0.57591789 -0.76113239]\n",
      " [-1.38028219 -0.07472426]\n",
      " [ 1.6894657  -0.28935241]\n",
      " [ 0.82845482  0.54211222]\n",
      " [-1.62745386  1.74436457]\n",
      " [ 0.60601612  0.13883141]\n",
      " [-1.59654594 -0.321718  ]\n",
      " [ 0.4583094  -1.92166634]\n",
      " [-0.70417147 -0.17504269]\n",
      " [-0.8582212  -0.77889026]\n",
      " [ 0.41948673  0.18459687]\n",
      " [ 1.16375721  0.18348081]\n",
      " [-1.21332987  0.66900056]\n",
      " [-0.7073472   0.16356119]\n",
      " [ 0.12613866  1.03146343]\n",
      " [-0.60961911  1.22549112]\n",
      " [-0.69199006 -0.30167841]\n",
      " [ 0.07049074 -1.2646128 ]\n",
      " [-0.23364535  0.34480695]\n",
      " [ 0.70856955  0.41758564]\n",
      " [ 1.69162169  0.12825477]\n",
      " [-0.54014306 -0.07814739]\n",
      " [-1.68798263 -1.2394408 ]\n",
      " [ 1.20247392 -0.03156476]\n",
      " [ 1.21105238 -1.12929204]\n",
      " [-0.2804073   0.36022537]\n",
      " [-0.28052552 -1.28233602]\n",
      " [ 0.7210219  -1.15811147]\n",
      " [ 0.44692065 -1.33254709]\n",
      " [ 0.06781261  0.01085914]\n",
      " [ 1.61329247  1.09233548]\n",
      " [ 0.90941958 -0.54126774]\n",
      " [-1.29543973  1.67271264]\n",
      " [ 0.2950342   0.64799106]\n",
      " [ 0.17161476  1.68256731]\n",
      " [-0.09864672  0.62533556]\n",
      " [ 0.64211682  1.62503823]\n",
      " [-0.09165994  0.77980256]\n",
      " [-0.78401215 -0.94146775]\n",
      " [ 0.72998324  1.31961989]\n",
      " [ 1.51635625 -1.5123488 ]\n",
      " [-1.20387773  1.11252898]\n",
      " [ 0.72555868  1.38169474]\n",
      " [ 0.02932511 -1.35839479]\n",
      " [-0.19843577  1.6315575 ]\n",
      " [-0.19084284 -0.7693431 ]]\n"
     ]
    },
    {
     "data": {
      "text/plain": [
       "LogisticRegression(random_state=0)"
      ]
     },
     "execution_count": 8,
     "metadata": {},
     "output_type": "execute_result"
    }
   ],
   "source": [
    "from sklearn.model_selection import train_test_split\n",
    "X_train, X_test, y_train, y_test = train_test_split(x, y, test_size = 0.3, random_state = 0)\n",
    "\n",
    "from sklearn.preprocessing import StandardScaler\n",
    "sc = StandardScaler()\n",
    "X_train = sc.fit_transform(X_train)\n",
    "X_test = sc.transform(X_test)\n",
    "print(X_train)\n",
    "\n",
    "from sklearn.linear_model import LogisticRegression\n",
    "clf = LogisticRegression(random_state=0)\n",
    "clf.fit(X_train,y_train)\n",
    "\n"
   ]
  },
  {
   "cell_type": "code",
   "execution_count": 6,
   "id": "c75b9042",
   "metadata": {},
   "outputs": [
    {
     "name": "stdout",
     "output_type": "stream",
     "text": [
      "Enter the marks in Mid-Semester : 34.62365962451697\n",
      "Enter the marks in End-Semester : 78.0246928153624\n",
      "Student will Fail\n"
     ]
    }
   ],
   "source": [
    "mid = float(input(\"Enter the marks in Mid-Semester : \" ))\n",
    "end = float(input(\"Enter the marks in End-Semester : \" ))\n",
    "newinp = [[mid,end]]\n",
    "res = clf.predict(sc.transform(newinp))\n",
    "if res==1: \n",
    "    print(\"Student will Pass\")\n",
    "else :\n",
    "    print(\"Student will Fail\")\n"
   ]
  },
  {
   "cell_type": "code",
   "execution_count": 11,
   "id": "44e42da1",
   "metadata": {},
   "outputs": [
    {
     "name": "stdout",
     "output_type": "stream",
     "text": [
      "The accuracy of the model is  86.66666666666667\n"
     ]
    }
   ],
   "source": [
    "y_pred = clf.predict(X_test)\n",
    "from sklearn.metrics import confusion_matrix,accuracy_score\n",
    "\n",
    "cm = confusion_matrix(y_test,y_pred)\n",
    "cm\n",
    "print(\"The accuracy of the model is \",format(accuracy_score(y_test,y_pred) * 100))"
   ]
  },
  {
   "cell_type": "code",
   "execution_count": null,
   "id": "2ae0c838",
   "metadata": {},
   "outputs": [],
   "source": []
  }
 ],
 "metadata": {
  "kernelspec": {
   "display_name": "Python 3 (ipykernel)",
   "language": "python",
   "name": "python3"
  },
  "language_info": {
   "codemirror_mode": {
    "name": "ipython",
    "version": 3
   },
   "file_extension": ".py",
   "mimetype": "text/x-python",
   "name": "python",
   "nbconvert_exporter": "python",
   "pygments_lexer": "ipython3",
   "version": "3.8.10"
  }
 },
 "nbformat": 4,
 "nbformat_minor": 5
}
